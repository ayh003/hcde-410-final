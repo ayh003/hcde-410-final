{
 "cells": [
  {
   "cell_type": "markdown",
   "id": "879d1f0d-4be4-4628-9f3e-fdee4932692d",
   "metadata": {},
   "source": [
    "# Motivation and problem statement: \n",
    "Hearing difficulties in different age groups and access to hearing aids\n",
    "\n",
    "Hearing difficulties affect millions of people worldwide, and across different age groups. Hearing loss is often associated with aging, but it can affect people of all ages, in childrens and young adults. Having access to hearing aids would significantly improve peoples overall quality of life. In this project, I would like to explore the relationships between hearing difficulties in different age groups and their access to hearing aids. From a human centered perspective This project takes a user-centered approach by considering the specific this shows the challenges faced by millions of individuals. I want to learn more about the barriers that may affect individuals access to hearing aids. One primary motivation for this project is from my grandmother who has been affected by hearing loss, and I've been looking into different hearing aids that may improve her quality of life.The overall goal of this project is to examine hearing difficulites and access to hearing aids between different age groups, specifically focusing of barries and inequalities that may effect access to them.\n",
    "Research Question: How accessible are hearing aids across different age groups? or How does the hearing aids impact auditory outcomes, quality of life, and social engagement across different age groups? \n",
    "\n",
    "# Methodology / Data selected for analysis:\n",
    "I plan on using qualitative and quantiative datasets. I chose to explore the cdc datasets because it contains extensive information on hearing difficulties by age, gender, and other demographic studies. Also including information on who uses hearing aids and how helpful they may be. Also I'll also examine the dataset from ncoa as it's recently posted 11/05/2024, the statistics are more relevant and accurate.\n",
    "\n",
    "Links: https://www.cdc.gov/nchs/products/databriefs/db414.htm\n",
    "\n",
    "https://www.ncoa.org/adviser/hearing-aids/hearing-loss-statistics/\n",
    "\n",
    "These dataset's are suitable in addressing my research goals as it contains information I need to draw information/issues surrounding it. A possible ethical consideration in using these datasets are the fact that the data may be bias and is not always representative of all populations.\n",
    "I plan on using data visualizations to present my finding, specifically bar graphs, and tables as this might be the easiest method to present my findings.\n",
    "This is my plan:\n",
    "1. Gathering information by Age Group and different hearing aids(perhaps also different materials the hearing aids are made of).\n",
    "2. After gathering the information I will filter out informations that will help address my research question.\n",
    "3. I intend to present my findings using data visualizations (in particular, bar graphs) to visualize differences and highlight the differerences across the different findings. The type of visualization might change depending what information I get.\n",
    "\n",
    "# Related Work: \n",
    "Studies have shown that hearing aids improve hearing clarity, speech recognition, and quality of life in older adults. However, outcomes depend heavily on the quality of the device. Advanced digital hearing aids often include features like noise reduction and directional microphones, which help older adults better perceive sounds in noisy environments. https://hscweb3.hsc.usf.edu/blog/2023/07/18/hearing-aids-slow-cognitive-decline-in-older-adults-with-hearing-loss-and-at-risk-for-cognitive-decline/#:~:text=Called%20the%20Aging%20and%20Cognitive,by%2048%25%20over%20three%20years. This article talks about how \"hearing intervention slowed down loss of thinking and memory abilities by 48%\". \n",
    "\n",
    "Prior research has showed that hearing aids significantly benefit people with hearing impairments across various age groups, but the specific needs, outcomes, and challenges changes depending on age. This study is designed to learn more about these age-specific differences by investigating how hearing aid quality impacts outcomes like auditory perception, cognitive function, social engagement, and overall quality of life across different demographics.\n",
    "\n",
    "# Unknowns and dependencies:\n",
    "Since the project involves analyzing both qualitative and quantitative data, interpreting the data and drawing correlations between hearing difficulties and access to hearing aids could be time-consuming. With the amount of information it could take longer or shorter than expected to complete this project. Also I'm not too sure how accurate the datasets may be."
   ]
  },
  {
   "cell_type": "code",
   "execution_count": null,
   "id": "aa6bcb95-0ed2-43e1-9fdb-0a3a5829d52c",
   "metadata": {},
   "outputs": [],
   "source": []
  }
 ],
 "metadata": {
  "kernelspec": {
   "display_name": "Python 3 (ipykernel)",
   "language": "python",
   "name": "python3"
  },
  "language_info": {
   "codemirror_mode": {
    "name": "ipython",
    "version": 3
   },
   "file_extension": ".py",
   "mimetype": "text/x-python",
   "name": "python",
   "nbconvert_exporter": "python",
   "pygments_lexer": "ipython3",
   "version": "3.10.13"
  }
 },
 "nbformat": 4,
 "nbformat_minor": 5
}
