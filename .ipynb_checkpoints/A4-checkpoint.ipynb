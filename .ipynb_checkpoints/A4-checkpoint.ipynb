{
 "cells": [
  {
   "cell_type": "markdown",
   "id": "879d1f0d-4be4-4628-9f3e-fdee4932692d",
   "metadata": {},
   "source": [
    "# Motivation and problem statement: \n",
    "Hearing difficulites in different age groups and accesss to hearing aids\n",
    "\n",
    "Hearing difficulties affect millions of people worldwide, and across different age groups. Hearing loss is often associated with aging, but it can affect people of all ages, in childrens and young adults. Having access to hearing aids would significantly improve peoples overall quality of life. In this project, I would like to explore the relationships between hearing difficulties in different age groups and their access to hearing aids. I want to learn more about the barriers that may affect individuals access to hearing aids. One primary motivation for this project is from my grandmother who has been affected by hearing loss, and I've been looking into different hearing aids that may improve her quality of life. This personal connection makes me more interested in the broader issues surrounding hearing loss and accessibility to hearing aids. The overall goal of this project is to examine hearing difficulites and access to hearing aids between different age groups, specifically focusing of barries and inequalities that may effect access to them.\n",
    "\n",
    "# Data selected for analysis:\n",
    "I plan on using qualitative and quantiative datasets. I chose to explore the cdc datasets because it contains extensive information on hearing difficulties by age, gender, and other demographic studies. Also including information on who uses hearing aids and how helpful they may be. Also I'll also examine the dataset from ncoa as it's recently posted 11/05/2024, the statistics are more relevant and accurate.\n",
    "\n",
    "Ex: https://www.cdc.gov/nchs/products/databriefs/db414.htm\n",
    "\n",
    "https://www.ncoa.org/adviser/hearing-aids/hearing-loss-statistics/\n",
    "\n",
    "\n",
    "\n",
    "# Unknowns and dependencies:\n",
    "Since the project involves analyzing both qualitative and quantitative data, interpreting the data and drawing correlations between hearing difficulties and access to hearing aids could be time-consuming. With the amount of information it could take longer or shorter than expected to complete this project."
   ]
  },
  {
   "cell_type": "code",
   "execution_count": null,
   "id": "aa6bcb95-0ed2-43e1-9fdb-0a3a5829d52c",
   "metadata": {},
   "outputs": [],
   "source": []
  }
 ],
 "metadata": {
  "kernelspec": {
   "display_name": "Python 3 (ipykernel)",
   "language": "python",
   "name": "python3"
  },
  "language_info": {
   "codemirror_mode": {
    "name": "ipython",
    "version": 3
   },
   "file_extension": ".py",
   "mimetype": "text/x-python",
   "name": "python",
   "nbconvert_exporter": "python",
   "pygments_lexer": "ipython3",
   "version": "3.10.13"
  }
 },
 "nbformat": 4,
 "nbformat_minor": 5
}
