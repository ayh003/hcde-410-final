{
 "cells": [
  {
   "cell_type": "markdown",
   "id": "879d1f0d-4be4-4628-9f3e-fdee4932692d",
   "metadata": {},
   "source": [
    "# Motivation and problem statement: \n",
    "\n",
    "# Data selected for analysis:\n",
    "\n",
    "# Unknowns and dependencies: "
   ]
  },
  {
   "cell_type": "code",
   "execution_count": null,
   "id": "aa6bcb95-0ed2-43e1-9fdb-0a3a5829d52c",
   "metadata": {},
   "outputs": [],
   "source": []
  }
 ],
 "metadata": {
  "kernelspec": {
   "display_name": "Python 3 (ipykernel)",
   "language": "python",
   "name": "python3"
  },
  "language_info": {
   "codemirror_mode": {
    "name": "ipython",
    "version": 3
   },
   "file_extension": ".py",
   "mimetype": "text/x-python",
   "name": "python",
   "nbconvert_exporter": "python",
   "pygments_lexer": "ipython3",
   "version": "3.10.13"
  }
 },
 "nbformat": 4,
 "nbformat_minor": 5
}
